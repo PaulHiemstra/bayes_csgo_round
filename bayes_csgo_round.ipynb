{
 "cells": [
  {
   "cell_type": "markdown",
   "id": "portable-tuesday",
   "metadata": {},
   "source": [
    "# Who will win the next round of Counter-Strike: Global Offensive? \n",
    "*Predicting round win probability using Bayesian statistics*\n",
    "\n",
    "*The article, code and data can be [found on github](https://github.com/PaulHiemstra/bayes_csgo_round)*\n",
    "\n",
    "# Introduction\n",
    "Like in other fields, the use of statistics and data has grown in [esports](https://en.wikipedia.org/wiki/Esports). One specific area is in esports broadcasts, where statistics are used to augment and improve the viewing experience. One example that stood out to me recently was part of the [Blast Spring CS:GO finals](https://liquipedia.net/counterstrike/BLAST/Premier/2021/Spring) where a round win probability 'AI prediction' was shown during the match. As the round unfolded, this probability was updated. For example, one of the counter-terrorist (CT) players going down would decrease the CT win probability. Immediately the cogs in my head started turning: how would I implement such a round predictor, apart from not calling it 'AI prediction'. In this article I will present my solution that uses Bayesian statistics to solve this problem. Using this approach, possible questions to answer would be:\n",
    "\n",
    "- how does the 1v1 win probability change when the bomb is planted\n",
    "- how does the win probability in general change when the bomb is planted\n",
    "- how does the win probability change when CT or T players go down \n",
    "- what is the influence of the map on the win probability\n",
    "\n",
    "Counter-Strike players could use this information to make informed decisions on what to do given a specific situation. In addition, a team could use the overall win probabilities and use them to benchmark themselves against. For example, how does your 4v5 winrate compare tot overall 4v5 winrate. \n",
    "\n",
    "In the course of the next few sections I will slowly build up the statistical model. \n",
    "\n",
    "# Two CT's left\n",
    "The first problem I want to tackle is the CT win probability when two CT players are left alive. In general, a decrease in the number of players alive should *decrease* the probability of that particular team winning. But before we can go into the statistics, first we have to determine what data to use. \n",
    "\n",
    "To calculate this probabilty I use [a lot of historical data](https://www.kaggle.com/christianlillelund/csgo-round-winner-classification) (thanks [Christian!](https://www.kaggle.com/christianlillelund)):"
   ]
  },
  {
   "cell_type": "code",
   "execution_count": 2,
   "id": "veterinary-cabin",
   "metadata": {},
   "outputs": [
    {
     "name": "stdout",
     "output_type": "stream",
     "text": [
      "122410\n",
      "Index(['time_left', 'ct_score', 't_score', 'map', 'bomb_planted', 'ct_health',\n",
      "       't_health', 'ct_armor', 't_armor', 'ct_money', 't_money', 'ct_helmets',\n",
      "       't_helmets', 'ct_defuse_kits', 'ct_players_alive', 't_players_alive',\n",
      "       'ct_weapon_ak47', 't_weapon_ak47', 'ct_weapon_aug', 't_weapon_aug',\n",
      "       'ct_weapon_awp', 't_weapon_awp', 'ct_weapon_bizon', 't_weapon_bizon',\n",
      "       'ct_weapon_cz75auto', 't_weapon_cz75auto', 'ct_weapon_elite',\n",
      "       't_weapon_elite', 'ct_weapon_famas', 't_weapon_famas',\n",
      "       'ct_weapon_g3sg1', 't_weapon_g3sg1', 'ct_weapon_galilar',\n",
      "       't_weapon_galilar', 'ct_weapon_glock', 't_weapon_glock',\n",
      "       'ct_weapon_m249', 't_weapon_m249', 'ct_weapon_m4a1s', 't_weapon_m4a1s',\n",
      "       'ct_weapon_m4a4', 't_weapon_m4a4', 'ct_weapon_mac10', 't_weapon_mac10',\n",
      "       'ct_weapon_mag7', 't_weapon_mag7', 'ct_weapon_mp5sd', 't_weapon_mp5sd',\n",
      "       'ct_weapon_mp7', 't_weapon_mp7', 'ct_weapon_mp9', 't_weapon_mp9',\n",
      "       'ct_weapon_negev', 't_weapon_negev', 'ct_weapon_nova', 't_weapon_nova',\n",
      "       'ct_weapon_p90', 't_weapon_p90', 'ct_weapon_r8revolver',\n",
      "       't_weapon_r8revolver', 'ct_weapon_sawedoff', 't_weapon_sawedoff',\n",
      "       'ct_weapon_scar20', 't_weapon_scar20', 'ct_weapon_sg553',\n",
      "       't_weapon_sg553', 'ct_weapon_ssg08', 't_weapon_ssg08',\n",
      "       'ct_weapon_ump45', 't_weapon_ump45', 'ct_weapon_xm1014',\n",
      "       't_weapon_xm1014', 'ct_weapon_deagle', 't_weapon_deagle',\n",
      "       'ct_weapon_fiveseven', 't_weapon_fiveseven', 'ct_weapon_usps',\n",
      "       't_weapon_usps', 'ct_weapon_p250', 't_weapon_p250', 'ct_weapon_p2000',\n",
      "       't_weapon_p2000', 'ct_weapon_tec9', 't_weapon_tec9',\n",
      "       'ct_grenade_hegrenade', 't_grenade_hegrenade', 'ct_grenade_flashbang',\n",
      "       't_grenade_flashbang', 'ct_grenade_smokegrenade',\n",
      "       't_grenade_smokegrenade', 'ct_grenade_incendiarygrenade',\n",
      "       't_grenade_incendiarygrenade', 'ct_grenade_molotovgrenade',\n",
      "       't_grenade_molotovgrenade', 'ct_grenade_decoygrenade',\n",
      "       't_grenade_decoygrenade', 'round_winner'],\n",
      "      dtype='object')\n"
     ]
    },
    {
     "data": {
      "text/html": [
       "<div>\n",
       "<style scoped>\n",
       "    .dataframe tbody tr th:only-of-type {\n",
       "        vertical-align: middle;\n",
       "    }\n",
       "\n",
       "    .dataframe tbody tr th {\n",
       "        vertical-align: top;\n",
       "    }\n",
       "\n",
       "    .dataframe thead th {\n",
       "        text-align: right;\n",
       "    }\n",
       "</style>\n",
       "<table border=\"1\" class=\"dataframe\">\n",
       "  <thead>\n",
       "    <tr style=\"text-align: right;\">\n",
       "      <th></th>\n",
       "      <th>time_left</th>\n",
       "      <th>ct_score</th>\n",
       "      <th>t_score</th>\n",
       "      <th>map</th>\n",
       "      <th>bomb_planted</th>\n",
       "      <th>ct_health</th>\n",
       "      <th>t_health</th>\n",
       "      <th>ct_armor</th>\n",
       "      <th>t_armor</th>\n",
       "      <th>ct_money</th>\n",
       "      <th>...</th>\n",
       "      <th>t_grenade_flashbang</th>\n",
       "      <th>ct_grenade_smokegrenade</th>\n",
       "      <th>t_grenade_smokegrenade</th>\n",
       "      <th>ct_grenade_incendiarygrenade</th>\n",
       "      <th>t_grenade_incendiarygrenade</th>\n",
       "      <th>ct_grenade_molotovgrenade</th>\n",
       "      <th>t_grenade_molotovgrenade</th>\n",
       "      <th>ct_grenade_decoygrenade</th>\n",
       "      <th>t_grenade_decoygrenade</th>\n",
       "      <th>round_winner</th>\n",
       "    </tr>\n",
       "  </thead>\n",
       "  <tbody>\n",
       "    <tr>\n",
       "      <th>0</th>\n",
       "      <td>175.00</td>\n",
       "      <td>0.0</td>\n",
       "      <td>0.0</td>\n",
       "      <td>de_dust2</td>\n",
       "      <td>False</td>\n",
       "      <td>500.0</td>\n",
       "      <td>500.0</td>\n",
       "      <td>0.0</td>\n",
       "      <td>0.0</td>\n",
       "      <td>4000.0</td>\n",
       "      <td>...</td>\n",
       "      <td>0.0</td>\n",
       "      <td>0.0</td>\n",
       "      <td>0.0</td>\n",
       "      <td>0.0</td>\n",
       "      <td>0.0</td>\n",
       "      <td>0.0</td>\n",
       "      <td>0.0</td>\n",
       "      <td>0.0</td>\n",
       "      <td>0.0</td>\n",
       "      <td>CT</td>\n",
       "    </tr>\n",
       "    <tr>\n",
       "      <th>1</th>\n",
       "      <td>156.03</td>\n",
       "      <td>0.0</td>\n",
       "      <td>0.0</td>\n",
       "      <td>de_dust2</td>\n",
       "      <td>False</td>\n",
       "      <td>500.0</td>\n",
       "      <td>500.0</td>\n",
       "      <td>400.0</td>\n",
       "      <td>300.0</td>\n",
       "      <td>600.0</td>\n",
       "      <td>...</td>\n",
       "      <td>0.0</td>\n",
       "      <td>0.0</td>\n",
       "      <td>2.0</td>\n",
       "      <td>0.0</td>\n",
       "      <td>0.0</td>\n",
       "      <td>0.0</td>\n",
       "      <td>0.0</td>\n",
       "      <td>0.0</td>\n",
       "      <td>0.0</td>\n",
       "      <td>CT</td>\n",
       "    </tr>\n",
       "    <tr>\n",
       "      <th>2</th>\n",
       "      <td>96.03</td>\n",
       "      <td>0.0</td>\n",
       "      <td>0.0</td>\n",
       "      <td>de_dust2</td>\n",
       "      <td>False</td>\n",
       "      <td>391.0</td>\n",
       "      <td>400.0</td>\n",
       "      <td>294.0</td>\n",
       "      <td>200.0</td>\n",
       "      <td>750.0</td>\n",
       "      <td>...</td>\n",
       "      <td>0.0</td>\n",
       "      <td>0.0</td>\n",
       "      <td>2.0</td>\n",
       "      <td>0.0</td>\n",
       "      <td>0.0</td>\n",
       "      <td>0.0</td>\n",
       "      <td>0.0</td>\n",
       "      <td>0.0</td>\n",
       "      <td>0.0</td>\n",
       "      <td>CT</td>\n",
       "    </tr>\n",
       "    <tr>\n",
       "      <th>3</th>\n",
       "      <td>76.03</td>\n",
       "      <td>0.0</td>\n",
       "      <td>0.0</td>\n",
       "      <td>de_dust2</td>\n",
       "      <td>False</td>\n",
       "      <td>391.0</td>\n",
       "      <td>400.0</td>\n",
       "      <td>294.0</td>\n",
       "      <td>200.0</td>\n",
       "      <td>750.0</td>\n",
       "      <td>...</td>\n",
       "      <td>0.0</td>\n",
       "      <td>0.0</td>\n",
       "      <td>0.0</td>\n",
       "      <td>0.0</td>\n",
       "      <td>0.0</td>\n",
       "      <td>0.0</td>\n",
       "      <td>0.0</td>\n",
       "      <td>0.0</td>\n",
       "      <td>0.0</td>\n",
       "      <td>CT</td>\n",
       "    </tr>\n",
       "    <tr>\n",
       "      <th>4</th>\n",
       "      <td>174.97</td>\n",
       "      <td>1.0</td>\n",
       "      <td>0.0</td>\n",
       "      <td>de_dust2</td>\n",
       "      <td>False</td>\n",
       "      <td>500.0</td>\n",
       "      <td>500.0</td>\n",
       "      <td>192.0</td>\n",
       "      <td>0.0</td>\n",
       "      <td>18350.0</td>\n",
       "      <td>...</td>\n",
       "      <td>0.0</td>\n",
       "      <td>0.0</td>\n",
       "      <td>0.0</td>\n",
       "      <td>0.0</td>\n",
       "      <td>0.0</td>\n",
       "      <td>0.0</td>\n",
       "      <td>0.0</td>\n",
       "      <td>0.0</td>\n",
       "      <td>0.0</td>\n",
       "      <td>CT</td>\n",
       "    </tr>\n",
       "  </tbody>\n",
       "</table>\n",
       "<p>5 rows × 97 columns</p>\n",
       "</div>"
      ],
      "text/plain": [
       "   time_left  ct_score  t_score       map  bomb_planted  ct_health  t_health  \\\n",
       "0     175.00       0.0      0.0  de_dust2         False      500.0     500.0   \n",
       "1     156.03       0.0      0.0  de_dust2         False      500.0     500.0   \n",
       "2      96.03       0.0      0.0  de_dust2         False      391.0     400.0   \n",
       "3      76.03       0.0      0.0  de_dust2         False      391.0     400.0   \n",
       "4     174.97       1.0      0.0  de_dust2         False      500.0     500.0   \n",
       "\n",
       "   ct_armor  t_armor  ct_money  ...  t_grenade_flashbang  \\\n",
       "0       0.0      0.0    4000.0  ...                  0.0   \n",
       "1     400.0    300.0     600.0  ...                  0.0   \n",
       "2     294.0    200.0     750.0  ...                  0.0   \n",
       "3     294.0    200.0     750.0  ...                  0.0   \n",
       "4     192.0      0.0   18350.0  ...                  0.0   \n",
       "\n",
       "   ct_grenade_smokegrenade  t_grenade_smokegrenade  \\\n",
       "0                      0.0                     0.0   \n",
       "1                      0.0                     2.0   \n",
       "2                      0.0                     2.0   \n",
       "3                      0.0                     0.0   \n",
       "4                      0.0                     0.0   \n",
       "\n",
       "   ct_grenade_incendiarygrenade  t_grenade_incendiarygrenade  \\\n",
       "0                           0.0                          0.0   \n",
       "1                           0.0                          0.0   \n",
       "2                           0.0                          0.0   \n",
       "3                           0.0                          0.0   \n",
       "4                           0.0                          0.0   \n",
       "\n",
       "   ct_grenade_molotovgrenade  t_grenade_molotovgrenade  \\\n",
       "0                        0.0                       0.0   \n",
       "1                        0.0                       0.0   \n",
       "2                        0.0                       0.0   \n",
       "3                        0.0                       0.0   \n",
       "4                        0.0                       0.0   \n",
       "\n",
       "   ct_grenade_decoygrenade  t_grenade_decoygrenade  round_winner  \n",
       "0                      0.0                     0.0            CT  \n",
       "1                      0.0                     0.0            CT  \n",
       "2                      0.0                     0.0            CT  \n",
       "3                      0.0                     0.0            CT  \n",
       "4                      0.0                     0.0            CT  \n",
       "\n",
       "[5 rows x 97 columns]"
      ]
     },
     "execution_count": 2,
     "metadata": {},
     "output_type": "execute_result"
    }
   ],
   "source": [
    "import pandas as pd\n",
    "\n",
    "round_data = pd.read_csv('data/csgo_round_snapshots.csv')\n",
    "print(len(round_data))\n",
    "print(round_data.columns)\n",
    "round_data.head()"
   ]
  },
  {
   "cell_type": "markdown",
   "id": "empty-protein",
   "metadata": {},
   "source": [
    "This dataset provides more than 122k snapshots during a round of CS:GO, providing properties of the round such as how many CT's are still alive, which weapons or utility are still present, etc. In addition, it also lists who won the round. The combination of the round properties and who won the round enables us to calculate win probability. \n",
    "\n",
    "The following helper function calculates win probability, in this case simply the overall CT win probability. "
   ]
  },
  {
   "cell_type": "code",
   "execution_count": 3,
   "id": "unknown-species",
   "metadata": {},
   "outputs": [
    {
     "data": {
      "text/plain": [
       "0.4901887100727065"
      ]
     },
     "execution_count": 3,
     "metadata": {},
     "output_type": "execute_result"
    }
   ],
   "source": [
    "def win_prob(dat, goal='CT'):\n",
    "    '''\n",
    "    Calculate the win probability for the team listed under `goal`. \n",
    "    '''\n",
    "    vc = dat.value_counts()\n",
    "    try:\n",
    "        return vc[goal] / vc.sum()\n",
    "    except KeyError:\n",
    "        return 0\n",
    "    \n",
    "round_data['round_winner'].agg(win_prob, goal='CT')"
   ]
  },
  {
   "cell_type": "markdown",
   "id": "revised-shuttle",
   "metadata": {},
   "source": [
    "Which simply counts the amount of times a round is won by for example `CT` versus the total amount of rounds. In this case it shows that CT's win 49% of the rounds. But ofcourse we have more data available than simply which team we belong to, for example how many CT players are still alive. To extend our round win probability to include this information we turn to [Bayesian statistics](https://en.wikipedia.org/wiki/Bayes%27_theorem). \n",
    "\n",
    "Bayesian statistics starts out with a *prior* estimation of the CT win probability ($P(\\text{CT win})$), in this case the overall win probaility we calculated earlier (0.49). Next we add additional evidence to the estimation, in this case that we know only 2 CT players are still alive. The *posterior* CT win probabilty ($P(\\text{CT win}|\\text{2 alive})$) is calculated using Bayes Theorem: \n",
    "\n",
    "\\begin{equation}\n",
    "P(A|B) = \\frac{P(B|A)P(A)}{P(B|A)P(A) + P(B|\\neg A)P(\\neg A)} = P(\\text{CT win}|\\text{2 alive}) = \\frac{P(\\text{2 alive}|\\text{CT win})P(\\text{CT win})}{P(\\text{2 alive}|\\text{CT win})P(\\text{CT win}) + P(\\text{2 alive}|\\text{CT lose})P(\\text{CT lose})}\n",
    "\\end{equation}\n",
    "\n",
    "where $P(\\text{2 alive}|\\text{CT win})$ is the *likelihood* of the CT's win when two CT's are left. All the terms on the right hand side of the equation can be calculated using our data:"
   ]
  },
  {
   "cell_type": "code",
   "execution_count": 4,
   "id": "necessary-chester",
   "metadata": {},
   "outputs": [
    {
     "data": {
      "text/plain": [
       "0.27515169576151494"
      ]
     },
     "execution_count": 4,
     "metadata": {},
     "output_type": "execute_result"
    }
   ],
   "source": [
    "P_2alive_CTwin = round_data.query('ct_players_alive == 2')['round_winner'].agg(win_prob, goal='CT')\n",
    "P_2alive_CTlose = round_data.query('ct_players_alive == 2')['round_winner'].agg(win_prob, goal='T')\n",
    "P_CT_win = round_data['round_winner'].agg(win_prob, goal='CT')\n",
    "\n",
    "def bayes_theorem(p_a, p_b_given_a, p_b_given_not_a):\n",
    "    not_a = 1 - p_a\n",
    "    p_b = p_b_given_a * p_a + p_b_given_not_a * not_a\n",
    "    p_a_given_b = (p_b_given_a * p_a) / p_b\n",
    "    return p_a_given_b\n",
    "\n",
    "bayes_theorem(P_CT_win, P_2alive_CTwin, P_2alive_CTlose)"
   ]
  },
  {
   "cell_type": "markdown",
   "id": "latest-wagon",
   "metadata": {},
   "source": [
    "So, when two CT players are left in a round the win probablity drops from 0.49 to 0.27. This makes sense as having less CT players makes it less likely that the CT's win the round. \n",
    "\n",
    "# Two CT's left on de_cache\n",
    "To make our CT win probabilty more realistic we are going to expand the amount of evidence we put into the Bayesian Theorem. Here we add the map that the teams are playing on, `de_cache`. \n",
    "\n",
    "Assuming the two pieces of evidence are not correlated (conditionally independent), we can expand our formula quite straightforwardly. Here in addition to the evidence that two CT's are alive, we add the evidence that we play on the map de_cache:\n",
    "\n",
    "\\begin{equation}\n",
    "P(\\text{win}|\\text{2 alive}, \\text{map de_cache}) = \\frac{P(\\text{2 alive}|\\text{win})P(\\text{map de_cache}|\\text{win})P(\\text{win})}{P(\\text{2 alive}|\\text{win})P(\\text{map de_cache}|\\text{win})P(\\text{win}) + P(\\text{2 alive}|\\text{lose})P(\\text{map de_cache}|\\text{lose})P(\\text{lose})}\n",
    "\\end{equation}\n",
    "\n",
    "The assumption of conditionally independence ensures that the new likelihood $P(\\text{map de_cache}|\\text{win})$ can be inserted in this simple way. This results in the following posterior CT win probability:"
   ]
  },
  {
   "cell_type": "code",
   "execution_count": 5,
   "id": "hundred-religion",
   "metadata": {},
   "outputs": [
    {
     "data": {
      "text/plain": [
       "0.48211252170893965"
      ]
     },
     "execution_count": 5,
     "metadata": {},
     "output_type": "execute_result"
    }
   ],
   "source": [
    "cur_map = \"de_cache\"\n",
    "no_players = 2\n",
    "P_2alive_win = round_data.query(f'ct_players_alive == {no_players}')['round_winner'].agg(win_prob, goal='CT')\n",
    "P_2alive_lose = round_data.query(f'ct_players_alive == {no_players}')['round_winner'].agg(win_prob, goal='T')\n",
    "P_map_win = round_data.query(f'map == \"{cur_map}\"')['round_winner'].agg(win_prob, goal='CT')\n",
    "P_map_lose = round_data.query(f'map == \"{cur_map}\"')['round_winner'].agg(win_prob, goal='T')\n",
    "P_CT_win = round_data['round_winner'].agg(win_prob, goal='CT')\n",
    "P_CT_lose = round_data['round_winner'].agg(win_prob, goal='T')\n",
    "\n",
    "bayes_theorem(P_CT_win, P_2alive_win * P_map_win, P_2alive_lose * P_map_lose)"
   ]
  },
  {
   "cell_type": "markdown",
   "id": "interesting-blogger",
   "metadata": {},
   "source": [
    "Which shows that the CT win probability given 2 CT's alive on cache is a lot higher than the overall win probability given two 2 CT's alive, 0.48 versus 0.27 in this case. \n",
    "\n",
    "# Introducing even more evidence\n",
    "Adding even more evidence is ofcourse going to make our estimate even better. To make our code a bit more flexible (and I'm a lazy programmer) I wrote some helper functions which allows us to pass any evidence we want as long as it is part of our dataset:"
   ]
  },
  {
   "cell_type": "code",
   "execution_count": 6,
   "id": "innocent-response",
   "metadata": {},
   "outputs": [
    {
     "data": {
      "text/plain": [
       "0.48211252170893965"
      ]
     },
     "execution_count": 6,
     "metadata": {},
     "output_type": "execute_result"
    }
   ],
   "source": [
    "def get_winprob_from_data(dat, goal):\n",
    "    '''\n",
    "    Calculate the win probability for the team listed in `goal` on `dat`. \n",
    "    '''\n",
    "    return dat.agg(win_prob, goal=goal)\n",
    "\n",
    "def calc_prob(var, value, goal):\n",
    "    '''\n",
    "    Calculate the likelihood of variable `var` having value `value`. \n",
    "    '''\n",
    "    if isinstance(value, str):\n",
    "        return get_winprob_from_data(round_data.query(f'{var} == \"{value}\"')['round_winner'], goal)\n",
    "    else:\n",
    "        return get_winprob_from_data(round_data.query(f'{var} == {value}')['round_winner'], goal)\n",
    "    \n",
    "def calc_probs_and_multiply(evidence, goal):\n",
    "    '''\n",
    "    Calculate all the likelihoods and multiply them together. \n",
    "    '''\n",
    "    return pd.Series([calc_prob(var, value, goal) for var, value in evidence.items()]).product()\n",
    "\n",
    "evidence = {'ct_players_alive': 2, 'map': 'de_cache'}\n",
    "bayes_theorem(get_winprob_from_data(round_data['round_winner'], 'CT'), \n",
    "              calc_probs_and_multiply(evidence, 'CT'), \n",
    "              calc_probs_and_multiply(evidence, 'T'))"
   ]
  },
  {
   "cell_type": "markdown",
   "id": "french-bubble",
   "metadata": {},
   "source": [
    "Which shows that by providing the evidence in a dictionary we get the same posterior probability for two CT's alive on the map of cache. With this more flexible code we can start experimenting more freely. For example, here we calculate the win probablity in a 1v1 situation before and after the bomb is planted:"
   ]
  },
  {
   "cell_type": "code",
   "execution_count": 7,
   "id": "organized-climb",
   "metadata": {},
   "outputs": [
    {
     "name": "stdout",
     "output_type": "stream",
     "text": [
      "0.18097289849730794 0.45306912812458766\n"
     ]
    }
   ],
   "source": [
    "evidence = {'ct_players_alive': 1, 't_players_alive': 1, 'bomb_planted': True}\n",
    "p1 = bayes_theorem(get_winprob_from_data(round_data['round_winner'], 'CT'), \n",
    "              calc_probs_and_multiply(evidence, 'CT'), \n",
    "              calc_probs_and_multiply(evidence, 'T'))\n",
    "evidence = {'ct_players_alive': 1, 't_players_alive': 1, 'bomb_planted': False}\n",
    "p2 = bayes_theorem(get_winprob_from_data(round_data['round_winner'], 'CT'), \n",
    "              calc_probs_and_multiply(evidence, 'CT'), \n",
    "              calc_probs_and_multiply(evidence, 'T'))\n",
    "print(p1, p2)"
   ]
  },
  {
   "cell_type": "markdown",
   "id": "documented-application",
   "metadata": {},
   "source": [
    "which shows that the win probability when the bomb is *not* planted slightly favors the T (0.45 for CT). This is probably due to the T being able to choose where the fights happens. When the T's manage to plant the bomb, the probability shifts even more into the T's favor.  \n",
    "\n",
    "# Bomb plants in more detail\n",
    "With the more flexible code, we can calculate a lot more probabilities taking into account CT players left, T players left, the map played and the whether or not the bomb is planted:"
   ]
  },
  {
   "cell_type": "code",
   "execution_count": 8,
   "id": "cathedral-delhi",
   "metadata": {},
   "outputs": [],
   "source": [
    "def prob_helper(evidence):\n",
    "    dummy = evidence.copy()\n",
    "    dummy['prob'] = bayes_theorem(get_winprob_from_data(round_data['round_winner'], 'CT'), \n",
    "                          calc_probs_and_multiply(evidence, 'CT'), \n",
    "                          calc_probs_and_multiply(evidence, 'T'))\n",
    "    return pd.DataFrame(dummy, index=[0])\n",
    "\n",
    "P_win = pd.concat([prob_helper({'ct_players_alive': ct_player, 't_players_alive': t_player, \n",
    "                                'map': map_name, 'bomb_planted': bomb_planted}) \n",
    "                   for ct_player in range(0,6) \n",
    "                   for t_player in range(0,6)\n",
    "                   for map_name in round_data['map'].unique()\n",
    "                   for bomb_planted in round_data['bomb_planted'].unique()])"
   ]
  },
  {
   "cell_type": "markdown",
   "id": "hungry-infrastructure",
   "metadata": {},
   "source": [
    "Note that this code takes quite long to run and is definitely very unoptimized. \n",
    "\n",
    "From this large set of probabilities we can derive some interesting insights. For example how a bomb plant impacts the CT win probability:"
   ]
  },
  {
   "cell_type": "code",
   "execution_count": 14,
   "id": "warming-guest",
   "metadata": {},
   "outputs": [
    {
     "data": {
      "image/png": "[encoded data removed]",
      "text/plain": [
       "<Figure size 640x480 with 1 Axes>"
      ]
     },
     "metadata": {},
     "output_type": "display_data"
    },
    {
     "data": {
      "text/plain": [
       "<ggplot: (8766536597854)>"
      ]
     },
     "execution_count": 14,
     "metadata": {},
     "output_type": "execute_result"
    }
   ],
   "source": [
    "from plotnine import *\n",
    "\n",
    "plot_data = P_win.pivot(index=['ct_players_alive', 't_players_alive', 'map'], columns='bomb_planted', values='prob')\n",
    "plot_data.columns = ['P(not planted)', 'P(Planted)']\n",
    "plot_data['P(Planted) - P(not planted)'] = plot_data['P(Planted)'] - plot_data['P(not planted)']\n",
    "\n",
    "gg = (\n",
    "    ggplot(plot_data.reset_index()) + \n",
    "      geom_point(aes(x='P(not planted)', y='P(Planted) - P(not planted)')) \n",
    ")\n",
    "gg"
   ]
  },
  {
   "cell_type": "code",
   "execution_count": 16,
   "id": "aware-bahrain",
   "metadata": {},
   "outputs": [
    {
     "name": "stderr",
     "output_type": "stream",
     "text": [
      "/home/paul/anaconda3/lib/python3.8/site-packages/plotnine/ggplot.py:713: PlotnineWarning: Saving 6.4 x 4.8 in image.\n",
      "/home/paul/anaconda3/lib/python3.8/site-packages/plotnine/ggplot.py:716: PlotnineWarning: Filename: probdiff_bomb.png\n"
     ]
    }
   ],
   "source": [
    "ggsave(gg, filename='probdiff_bomb.png', dpi=200)"
   ]
  },
  {
   "cell_type": "markdown",
   "id": "relevant-march",
   "metadata": {},
   "source": [
    "Where the x-axis is the CT win probability *before* a bomb plant, and the y-axis is the drop in CT win probability after the bomb is planted. In this graph we see that:\n",
    "\n",
    "- in general the CT win probability goes down when the bomb is planted\n",
    "- when the CT already have a very high chance of winning or losing, the change in probability is not large\n",
    "- The biggest change happens when the CT's have win probability of around 0.62, dropping to around 0.3. \n",
    "\n",
    "A takeaway for a pro CS:GO would be that in situation where the probability of winning is very even, it is risky to let the T's plant and play for a retake. \n",
    "\n",
    "To expand our exploration of bomb plants I plot the number of players left alive on both sides and the win probability before and after a bomb plant in a tile plot:"
   ]
  },
  {
   "cell_type": "code",
   "execution_count": 17,
   "id": "handled-claim",
   "metadata": {},
   "outputs": [
    {
     "data": {
      "image/png": "[encoded data removed]",
      "text/plain": [
       "<Figure size 1500x300 with 16 Axes>"
      ]
     },
     "metadata": {},
     "output_type": "display_data"
    },
    {
     "data": {
      "text/plain": [
       "<ggplot: (8766536902774)>"
      ]
     },
     "execution_count": 17,
     "metadata": {},
     "output_type": "execute_result"
    }
   ],
   "source": [
    "gg = (\n",
    "    ggplot(P_win, aes(x='ct_players_alive', y='t_players_alive')) + \n",
    "      geom_tile(aes(fill='prob')) + \n",
    "      facet_grid('bomb_planted ~ map') + \n",
    "      scale_fill_gradient2(midpoint=0.5) + theme(figure_size=(15,3)) +\n",
    "      labs(x = 'Number of CT players alive',\n",
    "           y = 'Number of T players alive',\n",
    "           fill = 'CT win prob')\n",
    ")\n",
    "gg"
   ]
  },
  {
   "cell_type": "code",
   "execution_count": 18,
   "id": "forward-peeing",
   "metadata": {},
   "outputs": [
    {
     "name": "stderr",
     "output_type": "stream",
     "text": [
      "/home/paul/anaconda3/lib/python3.8/site-packages/plotnine/ggplot.py:713: PlotnineWarning: Saving 15 x 3 in image.\n",
      "/home/paul/anaconda3/lib/python3.8/site-packages/plotnine/ggplot.py:716: PlotnineWarning: Filename: probdiff_many_bomb.png\n"
     ]
    }
   ],
   "source": [
    "ggsave(gg, filename='probdiff_many_bomb.png', dpi=200)"
   ]
  },
  {
   "cell_type": "markdown",
   "id": "stock-election",
   "metadata": {},
   "source": [
    "Interesting to note is:\n",
    "\n",
    "- In general the win probability of a 5v5 situation is almost 50/50. An exception is de_cache, which is heavily CT-sided. To a lesser extent this also holds for de_nuke and de_train. \n",
    "- The most significant changes to CT win probability happen when less than three CT or T players are left alive. \n",
    "- Losing team members reduces the win probabilty for each team. \n",
    "- As we saw in the previous graph, the CT win probability drops significantly when the T's manage to plant the bomb. \n",
    "\n",
    "# Interesting ways forward\n",
    "The approach in this article is still quite simple, some possible interesting routes of improvement might be:\n",
    "\n",
    "- Add even more variables. This does represent a challenge as the dataset is more and more divided up in calculating the win percentages. In addition, some variables are not categories. My current approach requires this, so these will have to be categorized. This can be done using `pd.cut`. \n",
    "- Extending beyond conditionally independent. Right now I assume that all the evidence is conditionally independent, which is often not true. Using a [Bayesian Belief Network](https://en.wikipedia.org/wiki/Bayesian_network) we could incorporate the dependence between the various pieces of evidence. [This article](https://machinelearningmastery.com/introduction-to-bayesian-belief-networks/) provides a nice introduction to BBN's in Python. \n",
    "- Changes in maps and the meta of CS:GO could potentially invalidate the data I use currently to calculate the probabilities. To use a system like this in practice it needs to be built using relevant and recent data, e.g. from a source like hltv.org. Ideally, a way to weight the evidence into the Bayesian Theorem could be beneficial. For example, older data could be less of influence on the final data than more recent data. I'm not sure how to implement this in practice though. "
   ]
  }
 ],
 "metadata": {
  "kernelspec": {
   "display_name": "Python 3",
   "language": "python",
   "name": "python3"
  },
  "language_info": {
   "codemirror_mode": {
    "name": "ipython",
    "version": 3
   },
   "file_extension": ".py",
   "mimetype": "text/x-python",
   "name": "python",
   "nbconvert_exporter": "python",
   "pygments_lexer": "ipython3",
   "version": "3.8.5"
  }
 },
 "nbformat": 4,
 "nbformat_minor": 5
}
